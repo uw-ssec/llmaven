{
 "cells": [
  {
   "cell_type": "code",
   "execution_count": 1,
   "id": "5c934e82-eabd-4f65-917e-e170ec6b10ec",
   "metadata": {},
   "outputs": [
    {
     "name": "stdout",
     "output_type": "stream",
     "text": [
      "ID: 7, Name: News, Slug: news\n",
      "ID: 6, Name: Support, Slug: support\n",
      "ID: 23, Name: Science, Slug: sci\n",
      "ID: 47, Name: Commissioning, Slug: commissioning\n",
      "ID: 10, Name: Data Management, Slug: dm\n",
      "ID: 22, Name: EPO, Slug: epo\n",
      "ID: 3, Name: Meta, Slug: meta\n",
      "ID: 48, Name: Archive, Slug: archive\n"
     ]
    }
   ],
   "source": [
    "import requests\n",
    "import json\n",
    "\n",
    "# Replace with your Discourse forum URL\n",
    "forum_url = \"https://community.lsst.org\"\n",
    "endpoint = f\"{forum_url}/categories.json\"\n",
    "\n",
    "# Make the GET request\n",
    "response = requests.get(endpoint,)\n",
    "\n",
    "if response.status_code == 200:\n",
    "    data = response.json()\n",
    "    categories = data['category_list']['categories']\n",
    "    \n",
    "    # Print the list of categories\n",
    "    for category in categories:\n",
    "        print(f\"ID: {category['id']}, Name: {category['name']}, Slug: {category['slug']}\")\n",
    "else:\n",
    "    print(f\"Failed to fetch categories: {response.status_code}\")\n"
   ]
  },
  {
   "cell_type": "code",
   "execution_count": 2,
   "id": "8962fe6c-fa78-4212-a981-81cd22755afd",
   "metadata": {},
   "outputs": [
    {
     "name": "stdout",
     "output_type": "stream",
     "text": [
      "https://community.lsst.org/c/6.json\n",
      "https://community.lsst.org/t/9532.json\n",
      "Post ID: 24312\n",
      "Author: asvoboda\n",
      "['https://community.lsst.org/uploads/default/optimized/2X/4/4e9222e12c78ac9b1e09912f207199d97d8f85d4_2_690x216.jpeg']\n",
      "Hello,\n",
      "DiamondCoverageMap\n",
      "1920×602 102 KB\n",
      "I’m writing to ask about the data formations within two of the queries I’m working on in the RSP portal. The queries are for an ObjectID table and a TruthSummary table. I’ve run them simultaneously in the portal before and the coverage map is typically in an ellipse shape. However now it appears in a diamond pattern. Any help with what this means or if I simply misclicked something would be greatly appreciated!\n",
      "I’m attaching the two queries and what the image look like below:\n",
      "ObjectID Query:\n",
      "SELECT TOP 100000 ra, decl, diaObjectId, nDiaSources, \n",
      "rPSFluxMin, rPSFluxMax, rPSFluxMean, rPSFluxSigma, rPSFluxMAD, \n",
      "rPSFluxChi2, rPSFluxNdata, rPSFluxSkew, rPSFluxStetsonJ, rPSFluxPercentile05, \n",
      "rPSFluxPercentile25, rPSFluxPercentile50, rPSFluxPercentile75, rPSFluxPercentile95, \n",
      "rTOTFluxMean, rTOTFluxSigma \n",
      "FROM dp02_dc2_catalogs.DiaObject \n",
      "WHERE CONTAINS(POINT('ICRS', ra, decl), CIRCLE('ICRS', 59.65688129, -36.75083078, 0.56)) = 1\n",
      "TruthSummary Query:\n",
      "SELECT *\n",
      "FROM dp02_dc2_catalogs.TruthSummary\n",
      "WHERE (truth_type=3 AND CONTAINS(POINT('ICRS', ra, dec), CIRCLE('ICRS', 59.65688129, -36.75083078, 0.56)) = 1)\n",
      " \n",
      "Post ID: 24313\n",
      "Author: MelissaGraham\n",
      "['https://community.lsst.org/uploads/default/optimized/2X/8/8533c5b23db8c659667d83aa977b2a8b9969db4b_2_690x329.jpeg']\n",
      "Hi\n",
      "@asvoboda\n",
      ", thanks for this question.\n",
      "You have not done anything wrong! This is actually a very newly-released feature in the Portal.\n",
      "The diamond pattern is a Healpix Grid, which is now automatically applied to coverage maps when a large number of objects are returned. The numbers in the diamonds are the number of objects returned in that region. The application of the Healpix Grid is automatic because it prevents the underlying image from being blocked out by thousands of individual object markers.\n",
      "For a bit of an extra demonstration, I’ve run your query and obtained the same results view. Then, I clicked on the “Manipulate overlay display” icon (below, its the fifth icon from left) to get the pop-up window to see overlay settings. I set the Healpix Grid size to “small” (the default is “large”), and then zoomed in on the coverage map a bit.\n",
      "Screenshot 2024-11-06 at 2.54.56 PM\n",
      "1519×726 111 KB\n",
      "Continue to zoom in and you’ll see the individual object markers appear.\n",
      "I’m going to mark this post as the solution because I think it addressed the issue, but please do feel free to post a reply or start a new Topic if you have any more questions.\n",
      " \n",
      "Post ID: 24316\n",
      "Author: asvoboda\n",
      "[]\n",
      "Thank you so much!! This answered my question perfectly!\n",
      " \n"
     ]
    }
   ],
   "source": [
    "from bs4 import BeautifulSoup\n",
    "for category in categories[1:2]:\n",
    "        endpoint = f\"{forum_url}/c/{category['id']}.json\"\n",
    "        # Make the GET request\n",
    "        print (endpoint)\n",
    "        response = requests.get(endpoint,)\n",
    "\n",
    "        if response.status_code == 200:\n",
    "            data = response.json() \n",
    "            topics = data['topic_list']['topics']\n",
    "        else:\n",
    "            print(f\"Failed to fetch categories: {response.status_code}\")\n",
    "        \n",
    "        for topic in topics[1:2]:\n",
    "            endpoint = f\"{forum_url}/t/{topic['id']}.json\"\n",
    "            print (endpoint)\n",
    "            # Make the GET request\n",
    "            response = requests.get(endpoint,)\n",
    "    \n",
    "            if response.status_code == 200:\n",
    "                data = response.json() \n",
    "                #print (data)\n",
    "                posts = data['post_stream']['posts']\n",
    "                \n",
    "                # Print the list of categories\n",
    "                for post in posts:\n",
    "                    #print (post.keys())\n",
    "                    #print (post)\n",
    "                    #for post in post_stream:\n",
    "                    print(f\"Post ID: {post['id']}\")\n",
    "                    print(f\"Author: {post['username']}\")\n",
    "                    cooked = post['cooked']\n",
    "                    soup = BeautifulSoup(cooked, 'html.parser')\n",
    "                    text = soup.get_text(separator='\\n', strip=True)\n",
    "                    images = [img['src'] for img in soup.find_all('img') if 'src' in img.attrs]\n",
    "                    print (images)\n",
    "                    print (text)\n",
    "                    print (\" \")\n",
    "                    #print(f\"ID: {post['id']}, Name: {post['title']}, Slug: {post['highest_post_number']}\")\n",
    "            else:\n",
    "                print(f\"Failed to fetch categories: {response.status_code}\")\n",
    "\n"
   ]
  },
  {
   "cell_type": "code",
   "execution_count": null,
   "id": "88249d86-2d8e-4876-8a13-231033451427",
   "metadata": {},
   "outputs": [],
   "source": []
  }
 ],
 "metadata": {
  "kernelspec": {
   "display_name": "Python 3 (ipykernel)",
   "language": "python",
   "name": "python3"
  },
  "language_info": {
   "codemirror_mode": {
    "name": "ipython",
    "version": 3
   },
   "file_extension": ".py",
   "mimetype": "text/x-python",
   "name": "python",
   "nbconvert_exporter": "python",
   "pygments_lexer": "ipython3",
   "version": "3.10.13"
  }
 },
 "nbformat": 4,
 "nbformat_minor": 5
}
