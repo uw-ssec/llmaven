{
 "cells": [
  {
   "cell_type": "markdown",
   "metadata": {},
   "source": [
    "# Cosine Similarity Evaluation for RAG Responses\n",
    "\n",
    "This notebook evaluates RAG model responses by computing cosine similarity between different text pairs. It helps measure how well the generated responses align with the original question, retrieved context, and true answer.\n",
    "\n",
    "## 1. Import libraries and dependencies?"
   ]
  },
  {
   "cell_type": "code",
   "execution_count": 1,
   "metadata": {},
   "outputs": [],
   "source": [
    "# ! pip install sentence-transformers"
   ]
  },
  {
   "cell_type": "code",
   "execution_count": 2,
   "metadata": {},
   "outputs": [],
   "source": [
    "import pandas as pd\n",
    "\n",
    "from datetime import datetime\n",
    "\n",
    "from sentence_transformers import SentenceTransformer\n",
    "from sklearn.metrics.pairwise import cosine_similarity\n"
   ]
  },
  {
   "cell_type": "code",
   "execution_count": 3,
   "metadata": {},
   "outputs": [],
   "source": [
    "# Load the sentence transformer model for embeddings\n",
    "# reference: https://huggingface.co/sentence-transformers/all-MiniLM-L6-v2\n",
    "# model = SentenceTransformer(\"all-MiniLM-L6-v2\")\n",
    "model = SentenceTransformer(\"all-MiniLM-L12-v2\")"
   ]
  },
  {
   "cell_type": "code",
   "execution_count": 4,
   "metadata": {},
   "outputs": [],
   "source": [
    "# function to calsulate the cosine similarity between two text fields\n",
    "def compute_cosine_similarity(text1, text2):\n",
    "    if pd.isna(text1) or pd.isna(text2) or text1.strip() == \"\" or text2.strip() == \"\":\n",
    "        return None  # handle missing values\n",
    "    emb1 = model.encode(text1).reshape(1, -1)\n",
    "    emb2 = model.encode(text2).reshape(1, -1)\n",
    "    return cosine_similarity(emb1, emb2)[0][0]"
   ]
  },
  {
   "cell_type": "markdown",
   "metadata": {},
   "source": [
    "## 2. Load the RAG results"
   ]
  },
  {
   "cell_type": "code",
   "execution_count": 5,
   "metadata": {},
   "outputs": [],
   "source": [
    "rag_results_df = pd.read_csv(\"data/results/trulens_results_2025-03-15_21-55-15.csv\")"
   ]
  },
  {
   "cell_type": "markdown",
   "metadata": {},
   "source": [
    "## 3. Compute Cosine Similarity"
   ]
  },
  {
   "cell_type": "code",
   "execution_count": 6,
   "metadata": {},
   "outputs": [],
   "source": [
    "# Answer Relevance (RAG_generated_answer vs. true_answer)\n",
    "rag_results_df[\"cosine_Answer_Relevance\"] = rag_results_df.apply(lambda row: compute_cosine_similarity(row[\"RAG_generated_answer\"], row[\"true_answer\"]), axis=1)\n",
    "\n",
    "# Groundedness (RAG_generated_answer vs. context)\n",
    "rag_results_df[\"cosine_Groundedness\"] = rag_results_df.apply(lambda row: compute_cosine_similarity(row[\"RAG_generated_answer\"], row[\"context\"]), axis=1)\n",
    "\n",
    "# Context Relevance (question vs. context)\n",
    "rag_results_df[\"cosine_Context_Relevance\"] = rag_results_df.apply(lambda row: compute_cosine_similarity(row[\"question\"], row[\"context\"]), axis=1)\n",
    "\n",
    "# Answer Accuracy (RAG-generated answer and ground truth)\n",
    "rag_results_df[\"similarity_to_ground_truth\"] = rag_results_df.apply(lambda row: compute_cosine_similarity(row[\"RAG_generated_answer\"], row[\"true_answer\"]), axis=1)"
   ]
  },
  {
   "cell_type": "code",
   "execution_count": 7,
   "metadata": {},
   "outputs": [
    {
     "data": {
      "text/html": [
       "<div>\n",
       "<style scoped>\n",
       "    .dataframe tbody tr th:only-of-type {\n",
       "        vertical-align: middle;\n",
       "    }\n",
       "\n",
       "    .dataframe tbody tr th {\n",
       "        vertical-align: top;\n",
       "    }\n",
       "\n",
       "    .dataframe thead th {\n",
       "        text-align: right;\n",
       "    }\n",
       "</style>\n",
       "<table border=\"1\" class=\"dataframe\">\n",
       "  <thead>\n",
       "    <tr style=\"text-align: right;\">\n",
       "      <th></th>\n",
       "      <th>question</th>\n",
       "      <th>true_answer</th>\n",
       "      <th>context</th>\n",
       "      <th>RAG_generated_answer</th>\n",
       "      <th>trulens_Answer_Relevance</th>\n",
       "      <th>trulens_Groundedness</th>\n",
       "      <th>trulens_Context_Relevance</th>\n",
       "      <th>cosine_Answer_Relevance</th>\n",
       "      <th>cosine_Groundedness</th>\n",
       "      <th>cosine_Context_Relevance</th>\n",
       "      <th>similarity_to_ground_truth</th>\n",
       "    </tr>\n",
       "  </thead>\n",
       "  <tbody>\n",
       "    <tr>\n",
       "      <th>0</th>\n",
       "      <td>Hi, \\nI’m following this tutorial:  The LSST S...</td>\n",
       "      <td>Quick comment on the code: \\n \\n \\n \\n  petarz...</td>\n",
       "      <td>Draft\\nLVV-P106: Data Management Acceptance Te...</td>\n",
       "      <td>```go\\n\\nAnswer:\\n\\nThe behavior you observe i...</td>\n",
       "      <td>0.000000</td>\n",
       "      <td>0.000000</td>\n",
       "      <td>0.500000</td>\n",
       "      <td>0.159147</td>\n",
       "      <td>0.314478</td>\n",
       "      <td>0.602906</td>\n",
       "      <td>0.159147</td>\n",
       "    </tr>\n",
       "    <tr>\n",
       "      <th>1</th>\n",
       "      <td>I have the following C++ class : \\n class CcdI...</td>\n",
       "      <td>After several iteration with  @ktl  and  @rowe...</td>\n",
       "      <td>In most cases, the SWIG files from the current...</td>\n",
       "      <td>\\nAnswer:\\nTo make the CcdImageList iterable i...</td>\n",
       "      <td>0.666667</td>\n",
       "      <td>0.000000</td>\n",
       "      <td>0.500000</td>\n",
       "      <td>0.545343</td>\n",
       "      <td>0.417874</td>\n",
       "      <td>0.446407</td>\n",
       "      <td>0.545343</td>\n",
       "    </tr>\n",
       "    <tr>\n",
       "      <th>2</th>\n",
       "      <td>Question on how forced photometry will be run ...</td>\n",
       "      <td>I take this to mean that a DIASource which is ...</td>\n",
       "      <td>DPDD | LSE-163 | Latest Revision 2023-07-10\\n1...</td>\n",
       "      <td>\\nAnswer: Forced photometry measurements with ...</td>\n",
       "      <td>1.000000</td>\n",
       "      <td>0.555556</td>\n",
       "      <td>0.666667</td>\n",
       "      <td>0.810223</td>\n",
       "      <td>0.661697</td>\n",
       "      <td>0.751487</td>\n",
       "      <td>0.810223</td>\n",
       "    </tr>\n",
       "    <tr>\n",
       "      <th>3</th>\n",
       "      <td>Hi there, \\n Is there some way I find out what...</td>\n",
       "      <td>Hi James \\nmaybe \\n dafButler.Butler.get_known...</td>\n",
       "      <td>3   Overview\\nThe Butler is implemented as thr...</td>\n",
       "      <td>\\nAnswer:\\nThe 'butler' object created in line...</td>\n",
       "      <td>1.000000</td>\n",
       "      <td>0.500000</td>\n",
       "      <td>0.500000</td>\n",
       "      <td>0.446853</td>\n",
       "      <td>0.696487</td>\n",
       "      <td>0.606108</td>\n",
       "      <td>0.446853</td>\n",
       "    </tr>\n",
       "    <tr>\n",
       "      <th>4</th>\n",
       "      <td>I’m having trouble building FFTW with texinfo ...</td>\n",
       "      <td>This has now been fixed and 3.3.4 is the curre...</td>\n",
       "      <td>LARGE SYNOPTIC SURVEY TELESCOPE\\nNotes on use ...</td>\n",
       "      <td>\\nAnswer: The known issue with Texinfo and FFT...</td>\n",
       "      <td>NaN</td>\n",
       "      <td>NaN</td>\n",
       "      <td>NaN</td>\n",
       "      <td>0.297717</td>\n",
       "      <td>0.279426</td>\n",
       "      <td>0.356063</td>\n",
       "      <td>0.297717</td>\n",
       "    </tr>\n",
       "  </tbody>\n",
       "</table>\n",
       "</div>"
      ],
      "text/plain": [
       "                                            question  \\\n",
       "0  Hi, \\nI’m following this tutorial:  The LSST S...   \n",
       "1  I have the following C++ class : \\n class CcdI...   \n",
       "2  Question on how forced photometry will be run ...   \n",
       "3  Hi there, \\n Is there some way I find out what...   \n",
       "4  I’m having trouble building FFTW with texinfo ...   \n",
       "\n",
       "                                         true_answer  \\\n",
       "0  Quick comment on the code: \\n \\n \\n \\n  petarz...   \n",
       "1  After several iteration with  @ktl  and  @rowe...   \n",
       "2  I take this to mean that a DIASource which is ...   \n",
       "3  Hi James \\nmaybe \\n dafButler.Butler.get_known...   \n",
       "4  This has now been fixed and 3.3.4 is the curre...   \n",
       "\n",
       "                                             context  \\\n",
       "0  Draft\\nLVV-P106: Data Management Acceptance Te...   \n",
       "1  In most cases, the SWIG files from the current...   \n",
       "2  DPDD | LSE-163 | Latest Revision 2023-07-10\\n1...   \n",
       "3  3   Overview\\nThe Butler is implemented as thr...   \n",
       "4  LARGE SYNOPTIC SURVEY TELESCOPE\\nNotes on use ...   \n",
       "\n",
       "                                RAG_generated_answer  \\\n",
       "0  ```go\\n\\nAnswer:\\n\\nThe behavior you observe i...   \n",
       "1  \\nAnswer:\\nTo make the CcdImageList iterable i...   \n",
       "2  \\nAnswer: Forced photometry measurements with ...   \n",
       "3  \\nAnswer:\\nThe 'butler' object created in line...   \n",
       "4  \\nAnswer: The known issue with Texinfo and FFT...   \n",
       "\n",
       "   trulens_Answer_Relevance  trulens_Groundedness  trulens_Context_Relevance  \\\n",
       "0                  0.000000              0.000000                   0.500000   \n",
       "1                  0.666667              0.000000                   0.500000   \n",
       "2                  1.000000              0.555556                   0.666667   \n",
       "3                  1.000000              0.500000                   0.500000   \n",
       "4                       NaN                   NaN                        NaN   \n",
       "\n",
       "   cosine_Answer_Relevance  cosine_Groundedness  cosine_Context_Relevance  \\\n",
       "0                 0.159147             0.314478                  0.602906   \n",
       "1                 0.545343             0.417874                  0.446407   \n",
       "2                 0.810223             0.661697                  0.751487   \n",
       "3                 0.446853             0.696487                  0.606108   \n",
       "4                 0.297717             0.279426                  0.356063   \n",
       "\n",
       "   similarity_to_ground_truth  \n",
       "0                    0.159147  \n",
       "1                    0.545343  \n",
       "2                    0.810223  \n",
       "3                    0.446853  \n",
       "4                    0.297717  "
      ]
     },
     "execution_count": 7,
     "metadata": {},
     "output_type": "execute_result"
    }
   ],
   "source": [
    "rag_results_df.head()"
   ]
  },
  {
   "cell_type": "markdown",
   "metadata": {},
   "source": [
    "## 4. Save the results"
   ]
  },
  {
   "cell_type": "code",
   "execution_count": 8,
   "metadata": {},
   "outputs": [],
   "source": [
    "timestamp = datetime.now().strftime(\"%Y-%m-%d_%H-%M-%S\")\n",
    "file_name = f\"data/results/cosine_similarity_results_{timestamp}.csv\"\n",
    "rag_results_df.to_csv(file_name, index=False)"
   ]
  },
  {
   "cell_type": "code",
   "execution_count": null,
   "metadata": {},
   "outputs": [],
   "source": []
  }
 ],
 "metadata": {
  "kernelspec": {
   "display_name": "notebook",
   "language": "python",
   "name": "python3"
  },
  "language_info": {
   "codemirror_mode": {
    "name": "ipython",
    "version": 3
   },
   "file_extension": ".py",
   "mimetype": "text/x-python",
   "name": "python",
   "nbconvert_exporter": "python",
   "pygments_lexer": "ipython3",
   "version": "3.11.9"
  }
 },
 "nbformat": 4,
 "nbformat_minor": 2
}
