{
 "cells": [
  {
   "cell_type": "markdown",
   "id": "46292b40",
   "metadata": {},
   "source": [
    "# Discourse Forum Data Extraction\n",
    "\n",
    "This notebook is dedicated to extracting data from a Discourse forum. \n",
    "\n",
    "Discourse is an open-source discussion platform commonly used for community forums. We retrieve relevant data such as posts, user information, and discussion threads from a Discourse forum using web scraping techniques or available APIs.\n",
    "\n",
    "Reference: [docs.discourse](https://docs.discourse.org)"
   ]
  },
  {
   "cell_type": "markdown",
   "id": "e0788b69",
   "metadata": {},
   "source": [
    "## 1. Import Libraries"
   ]
  },
  {
   "cell_type": "code",
   "execution_count": 4,
   "id": "b125d74f",
   "metadata": {},
   "outputs": [],
   "source": [
    "import requests\n",
    "import json\n",
    "from bs4 import BeautifulSoup"
   ]
  },
  {
   "cell_type": "markdown",
   "id": "aa417b94",
   "metadata": {},
   "source": [
    "## 2. Set Base Configuration"
   ]
  },
  {
   "cell_type": "code",
   "execution_count": null,
   "id": "f3ac460c",
   "metadata": {},
   "outputs": [],
   "source": [
    "# replace with your Discourse forum URL\n",
    "forum_url = \"https://community.lsst.org\"\n",
    "\n",
    "# this endopoint doesn't require authentication."
   ]
  },
  {
   "cell_type": "markdown",
   "id": "de7c741b",
   "metadata": {},
   "source": [
    "## 3. Define Utility Functions"
   ]
  },
  {
   "cell_type": "code",
   "execution_count": null,
   "id": "8bfadf66",
   "metadata": {},
   "outputs": [],
   "source": [
    "# fetch categories from the Discourse forum\n",
    "def get_categories(forum_url):\n",
    "    endpoint = f\"{forum_url}/categories.json\"\n",
    "    response = requests.get(endpoint,)\n",
    "    if response.status_code == 200:\n",
    "        return response.json()['category_list']['categories']\n",
    "    else:\n",
    "        print(f\"Failed to fetch categories: {response.status_code}\")\n",
    "        return []"
   ]
  },
  {
   "cell_type": "code",
   "execution_count": null,
   "id": "7f580c6f",
   "metadata": {},
   "outputs": [],
   "source": [
    "# fetch topics for a given category\n",
    "def get_topics(forum_url, category_slug):\n",
    "    endpoint = f\"{forum_url}/c/{category_slug}.json\"\n",
    "    response = requests.get(endpoint,)\n",
    "    if response.status_code == 200:\n",
    "        return response.json()['topic_list']['topics']\n",
    "    else:\n",
    "        print(f\"Failed to fetch topics for category {category_slug}: {response.status_code}\")\n",
    "        return []"
   ]
  },
  {
   "cell_type": "code",
   "execution_count": null,
   "id": "901f3293",
   "metadata": {},
   "outputs": [],
   "source": [
    "# fetch posts for a given topic\n",
    "def get_posts(forum_url, topic_id):\n",
    "    endpoint = f\"{forum_url}/t/{topic_id}.json\"\n",
    "    response = requests.get(endpoint,)\n",
    "    if response.status_code == 200:\n",
    "        return response.json()['post_stream']['posts']\n",
    "    else:\n",
    "        print(f\"Failed to fetch posts for topic {topic_id}: {response.status_code}\")\n",
    "        return []"
   ]
  },
  {
   "cell_type": "code",
   "execution_count": null,
   "id": "6b4dd8c7",
   "metadata": {},
   "outputs": [],
   "source": [
    "# extract text and image URLs from the cooked HTML\n",
    "def extract_text_and_images(cooked_html):\n",
    "    soup = BeautifulSoup(cooked_html, 'html.parser')\n",
    "    text = soup.get_text(separator='\\n', strip=True)\n",
    "    images = [img['src'] for img in soup.find_all('img') if 'src' in img.attrs]\n",
    "    return text, images"
   ]
  },
  {
   "cell_type": "markdown",
   "id": "ab7023fd",
   "metadata": {},
   "source": [
    "## 4. Data Extraction"
   ]
  },
  {
   "cell_type": "code",
   "execution_count": 29,
   "id": "c4ae6b86",
   "metadata": {},
   "outputs": [],
   "source": [
    "# get all the categories\n",
    "categories = get_categories(forum_url)\n",
    "\n",
    "# print(json.dumps(categories, indent=4))"
   ]
  },
  {
   "cell_type": "code",
   "execution_count": 30,
   "id": "88249d86-2d8e-4876-8a13-231033451427",
   "metadata": {},
   "outputs": [
    {
     "name": "stdout",
     "output_type": "stream",
     "text": [
      "Category: News (ID: 7)\n",
      "Category: Support (ID: 6)\n",
      "Category: Science (ID: 23)\n",
      "Category: Commissioning (ID: 47)\n",
      "Category: Data Management (ID: 10)\n",
      "Category: EPO (ID: 22)\n",
      "Category: Meta (ID: 3)\n",
      "Category: Archive (ID: 48)\n"
     ]
    }
   ],
   "source": [
    "# initialize a list to hold all the data\n",
    "data_dump = []\n",
    "\n",
    "# extract information from each category\n",
    "for category in categories:\n",
    "    category_id = category['id']\n",
    "    category_name = category['name']\n",
    "    category_slug = category['slug']\n",
    "    print(f\"Category: {category_name} (ID: {category_id})\")\n",
    "\n",
    "    # get all the topics for the category\n",
    "    topics = get_topics(forum_url, category_slug)\n",
    "\n",
    "    # extract information from each topic\n",
    "    for topic in topics:\n",
    "        topic_id = topic['id']\n",
    "        topic_title = topic['title']\n",
    "        #print(f\"  Topic: {topic_title} (ID: {topic_id})\")\n",
    "\n",
    "        # get all the posts for the topic\n",
    "        posts = get_posts(forum_url, topic_id)\n",
    "        for post in posts:\n",
    "            # print(json.dumps(post, indent=4))\n",
    "            post_data = {\n",
    "                \"category_id\": category_id,\n",
    "                \"category_name\": category_name,\n",
    "                \"category_slug\": category_slug,\n",
    "                \"topic_id\": topic_id,\n",
    "                \"topic_title\": topic_title,\n",
    "                \"post_data\": post\n",
    "            }\n",
    "\n",
    "            # append the post data to the list\n",
    "            data_dump.append(post_data)"
   ]
  },
  {
   "cell_type": "code",
   "execution_count": 31,
   "id": "8cea981c",
   "metadata": {},
   "outputs": [
    {
     "name": "stdout",
     "output_type": "stream",
     "text": [
      "Data saved!\n"
     ]
    }
   ],
   "source": [
    "# save the data dump to a JSON file\n",
    "\n",
    "output_filename = \"forum_data_dump.json\"\n",
    "with open(output_filename, \"w\") as json_file:\n",
    "    json.dump(data_dump, json_file, indent=4)\n",
    "\n",
    "print(\"Data saved!\")"
   ]
  }
 ],
 "metadata": {
  "kernelspec": {
   "display_name": "Python 3",
   "language": "python",
   "name": "python3"
  },
  "language_info": {
   "codemirror_mode": {
    "name": "ipython",
    "version": 3
   },
   "file_extension": ".py",
   "mimetype": "text/x-python",
   "name": "python",
   "nbconvert_exporter": "python",
   "pygments_lexer": "ipython3",
   "version": "3.9.6"
  }
 },
 "nbformat": 4,
 "nbformat_minor": 5
}
